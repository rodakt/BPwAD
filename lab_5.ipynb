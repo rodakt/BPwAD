{
 "cells": [
  {
   "cell_type": "markdown",
   "metadata": {},
   "source": [
    "# Biblioteki Pythona w analizie danych\n",
    "### Tomasz Rodak\n",
    "\n",
    "Lab 5\n",
    "\n",
    "---\n",
    "\n"
   ]
  },
  {
   "cell_type": "markdown",
   "metadata": {},
   "source": [
    "### Zadanie 5.1\n",
    "\n",
    "Celem zadania jest optymalizacja hiperparametrów modelu regresji wielomianowej z regularyzacją przy użyciu potoków (pipelines) w Optunie."
   ]
  },
  {
   "cell_type": "markdown",
   "metadata": {},
   "source": [
    "#### 5.1.1 Generowanie danych\n",
    "\n",
    "- Wygeneruj sztuczne dane przeznaczone do problemu regresyjnego. Ponieważ celem jest regresja wielomianowa, więc dane powinny być nieliniowe. \n",
    "- Podziel dane na zbiór treningowy i testowy.\n"
   ]
  },
  {
   "cell_type": "code",
   "execution_count": null,
   "metadata": {
    "vscode": {
     "languageId": "plaintext"
    }
   },
   "outputs": [],
   "source": []
  },
  {
   "cell_type": "code",
   "execution_count": null,
   "metadata": {
    "vscode": {
     "languageId": "plaintext"
    }
   },
   "outputs": [],
   "source": []
  },
  {
   "cell_type": "markdown",
   "metadata": {},
   "source": [
    "\n",
    "#### 5.1.2 Przygotowanie modelu\n",
    "\n",
    "Zbuduj potok (*pipeline*) w scikit-learn, który będzie zawierał przynajmniej następujące etapy:\n",
    "- Transformację cech przy użyciu funkcji umożliwiającej rozbudowę cech o wyższe potęgi (np. `PolynomialFeatures`).\n",
    "- Dopasowanie modelu regresyjnego z regularyzacją (np. `Ridge` lub `Lasso`).\n"
   ]
  },
  {
   "cell_type": "code",
   "execution_count": null,
   "metadata": {
    "vscode": {
     "languageId": "plaintext"
    }
   },
   "outputs": [],
   "source": []
  },
  {
   "cell_type": "code",
   "execution_count": null,
   "metadata": {
    "vscode": {
     "languageId": "plaintext"
    }
   },
   "outputs": [],
   "source": []
  },
  {
   "cell_type": "markdown",
   "metadata": {},
   "source": [
    "\n",
    "#### 5.1.3 Optymalizacja hiperparametrów\n",
    "\n",
    "Zaimplementuj optymalizację hiperparametrów modelu przy użyciu Optuny.\n",
    "- Użyj kroswalidacji (np. `KFold` lub `cross_val_score` z scikit-learn) aby oszacować błąd testowy modelu dla różnych kombinacji hiperparametrów.\n",
    "- Jako hiperparametry rozważ między innymi:\n",
    "  - Stopień wielomianu (parametr `degree` w `PolynomialFeatures`).\n",
    "  - Wartość parametru regularyzacji (np. `alpha` w modelach Ridge/Lasso).\n",
    "  - Rodzaj modelu (np. Ridge vs Lasso).\n"
   ]
  },
  {
   "cell_type": "code",
   "execution_count": null,
   "metadata": {
    "vscode": {
     "languageId": "plaintext"
    }
   },
   "outputs": [],
   "source": []
  },
  {
   "cell_type": "code",
   "execution_count": null,
   "metadata": {
    "vscode": {
     "languageId": "plaintext"
    }
   },
   "outputs": [],
   "source": []
  },
  {
   "cell_type": "markdown",
   "metadata": {},
   "source": [
    "\n",
    "#### 5.1.4 Ocena modelu\n",
    "\n",
    "Po optymalizacji hiperparametrów, wybierz model o najlepszych wynikach kroswalidacji i oceń ostateczną jakość modelu na zbiorze testowym.\n"
   ]
  },
  {
   "cell_type": "code",
   "execution_count": null,
   "metadata": {
    "vscode": {
     "languageId": "plaintext"
    }
   },
   "outputs": [],
   "source": []
  },
  {
   "cell_type": "code",
   "execution_count": null,
   "metadata": {
    "vscode": {
     "languageId": "plaintext"
    }
   },
   "outputs": [],
   "source": []
  }
 ],
 "metadata": {
  "kernelspec": {
   "display_name": "py312",
   "language": "python",
   "name": "python3"
  },
  "language_info": {
   "codemirror_mode": {
    "name": "ipython",
    "version": 3
   },
   "file_extension": ".py",
   "mimetype": "text/x-python",
   "name": "python",
   "nbconvert_exporter": "python",
   "pygments_lexer": "ipython3",
   "version": "3.12.4"
  }
 },
 "nbformat": 4,
 "nbformat_minor": 2
}

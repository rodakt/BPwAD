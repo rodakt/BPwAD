{
 "cells": [
  {
   "cell_type": "markdown",
   "metadata": {},
   "source": [
    "# Biblioteki Pythona w analizie danych\n",
    "\n",
    "## Tomasz Rodak\n",
    "\n",
    "Lab 1\n",
    "\n",
    "---\n",
    "\n",
    "Literatura:\n",
    "\n",
    "- [PRML](https://www.microsoft.com/en-us/research/uploads/prod/2006/01/Bishop-Pattern-Recognition-and-Machine-Learning-2006.pdf) Christopher M. Bishop, \"Pattern Recognition and Machine Learning\", 2006.\n",
    "- [PML-1](https://probml.github.io/pml-book/) Kevin P. Murphy, \"Probabilistic Machine Learning: An Introduction\", 2022.\n",
    "- [Dokumentacja NumPy](https://numpy.org/doc/stable/)\n",
    "\n",
    "## NumPy\n",
    "\n",
    "Zapoznaj się z podstawowymi funkcjami biblioteki NumPy: [Numpy: the absolute basics for beginners](https://numpy.org/doc/stable/user/absolute_beginners.html).\n",
    "\n"
   ]
  },
  {
   "cell_type": "markdown",
   "metadata": {},
   "source": [
    "## Regresja liniowa z wykorzystaniem NumPy\n",
    "\n",
    "Celem ćwiczenia jest implementacja regresji liniowej z wykorzystaniem biblioteki NumPy. Zamiast gotowych narzędzi jak sklearn, wykorzystamy operacje algebraiczne do obliczenia współczynników modelu oraz oceny jego jakości.\n",
    "\n",
    "### 1. Generowanie danych\n",
    "\n",
    "1. Zaimportuj bibliotekę NumPy.\n",
    "2. Utwórz zbiór obserwacji zmiennych niezależnych `X` składający się z $N=1000$ obserwacji i $p=5$ zmiennych niezależnych, korzystając z generatora liczb losowych z rozkładu normalnego.\n",
    "3. Wygeneruj losowy wektor współczynników `w` o długości $p+1$ (uwzględniając wyraz wolny).\n",
    "4. Stwórz zmienną zależną `y` zgodnie z modelem: $y = X \\cdot \\mathbf{w} + \\text{szum losowy}$, gdzie `szum losowy` to wektor zmiennych losowych z rozkładu normalnego o średniej 0 i wybranej wariancji."
   ]
  },
  {
   "cell_type": "code",
   "execution_count": null,
   "metadata": {},
   "outputs": [],
   "source": []
  },
  {
   "cell_type": "code",
   "execution_count": null,
   "metadata": {},
   "outputs": [],
   "source": []
  },
  {
   "cell_type": "markdown",
   "metadata": {},
   "source": [
    "### 2. Obliczenie całkowitej sumy kwadratów (TSS)\n",
    "\n",
    "TSS (*Total Sum of Squares*) to suma kwadratów różnic między wartościami zmiennej zależnej `y` a ich średnią:\n",
    "\n",
    "\\begin{equation*}\n",
    "\\text{TSS} = \\sum_{i=1}^{N} (y_i - \\bar{y})^2\n",
    "\\end{equation*}\n",
    "\n",
    "gdzie $\\bar{y}$ to średnia wartość zmiennej `y`. Wielkość tę można interpretować jako całkowitą wariancję zmiennej zależnej. Można też powiedzieć, że jest to ocena bazowego modelu wyznaczonego przez średnią wartość zmiennej zależnej.\n",
    "\n",
    "1. Oblicz średnią wartość zmiennej `y`.\n",
    "2. Korzystając z definicji oblicz TSS."
   ]
  },
  {
   "cell_type": "code",
   "execution_count": null,
   "metadata": {},
   "outputs": [],
   "source": []
  },
  {
   "cell_type": "code",
   "execution_count": null,
   "metadata": {},
   "outputs": [],
   "source": []
  },
  {
   "cell_type": "markdown",
   "metadata": {},
   "source": [
    "### 3. Implementacja regresji liniowej\n",
    "\n",
    "1. Dodaj kolumnę jedynek do macierzy `X` jako pierwszą kolumnę (odpowiadającą wyrazowi wolnemu).\n",
    "2. Oblicz estymator współczynników regresji `w_ML` korzystając ze wzoru z wykładu 1.\n",
    "3. Oblicz przewidywane wartości `y_hat` dla modelu."
   ]
  },
  {
   "cell_type": "code",
   "execution_count": null,
   "metadata": {},
   "outputs": [],
   "source": []
  },
  {
   "cell_type": "code",
   "execution_count": null,
   "metadata": {},
   "outputs": [],
   "source": []
  },
  {
   "cell_type": "markdown",
   "metadata": {},
   "source": [
    "### 4. Ocena jakości modelu\n",
    "\n",
    "RSS (*Residual Sum of Squares*) to suma kwadratów reszt, czyli różnic między rzeczywistymi wartościami `y` a przewidywanymi `y_hat`:\n",
    "\n",
    "\\begin{equation*}\n",
    "\\text{RSS} = \\sum_{i=1}^{N} (y_i - \\hat{y}_i)^2\n",
    "\\end{equation*}\n",
    "\n",
    "Wielkość ta jest miarą dopasowania modelu do danych. Parametry modelu są tak dobrane, aby minimalizować RSS na zbiorze treningowym.\n",
    "\n",
    "Współczynnik determinacji $R^2$ to stosunek wariancji wyjaśnionej przez model do całkowitej wariancji zmiennej zależnej:\n",
    "\n",
    "\\begin{equation*}\n",
    "R^2 = \\frac{\\text{TSS} - \\text{RSS}}{\\text{TSS}}= 1 - \\frac{\\text{RSS}}{\\text{TSS}}\n",
    "\\end{equation*}\n",
    "\n",
    "\n",
    "1. Oblicz RSS.\n",
    "2. Oblicz współczynnik determinacji $R^2$."
   ]
  },
  {
   "cell_type": "code",
   "execution_count": null,
   "metadata": {},
   "outputs": [],
   "source": []
  },
  {
   "cell_type": "code",
   "execution_count": null,
   "metadata": {},
   "outputs": [],
   "source": []
  },
  {
   "cell_type": "markdown",
   "metadata": {},
   "source": [
    "### Pytania dodatkowe\n",
    "\n",
    "Zobacz jak zmienia się wartość TSS, RSS i $R^2$ w zależności od:\n",
    "1. wariancji szumu,\n",
    "2. liczby obserwacji $N$,\n",
    "3. liczby zmiennych niezależnych $p$."
   ]
  }
 ],
 "metadata": {
  "kernelspec": {
   "display_name": "py312",
   "language": "python",
   "name": "python3"
  },
  "language_info": {
   "codemirror_mode": {
    "name": "ipython",
    "version": 3
   },
   "file_extension": ".py",
   "mimetype": "text/x-python",
   "name": "python",
   "nbconvert_exporter": "python",
   "pygments_lexer": "ipython3",
   "version": "3.12.4"
  }
 },
 "nbformat": 4,
 "nbformat_minor": 2
}

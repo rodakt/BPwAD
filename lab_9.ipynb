{
 "cells": [
  {
   "cell_type": "markdown",
   "metadata": {},
   "source": [
    "# Biblioteki Pythona w analizie danych\n",
    "### Tomasz Rodak\n",
    "\n",
    "Lab 9\n",
    "\n",
    "---\n",
    "\n"
   ]
  },
  {
   "cell_type": "markdown",
   "metadata": {},
   "source": [
    "## Sieci konwolucyjne - podstawy"
   ]
  },
  {
   "cell_type": "markdown",
   "metadata": {},
   "source": [
    "### 1.\n",
    "\n",
    "Oblicz $\\mathbf{I} \\ast \\mathbf{K}$ dla:\n",
    "\n",
    "\\begin{equation*}\n",
    "\\mathbf{I} = \\begin{bmatrix}\n",
    "2 & 5 & -3 & 0 \\\\\n",
    "0 & 6 & 0 & -4 \\\\\n",
    "-1 & -3 & 0 & 2 \\\\\n",
    "5 & 0 & 0 & 3\n",
    "\\end{bmatrix}\n",
    "\\text{ oraz } \\mathbf{K} = \\begin{bmatrix}\n",
    "-2 & 0 \\\\\n",
    "4 & 6\n",
    "\\end{bmatrix}\n",
    "\\end{equation*}"
   ]
  },
  {
   "cell_type": "markdown",
   "metadata": {},
   "source": [
    "### 2.\n",
    "\n",
    "Rozważmy fragment sieci konwolucyjnej o architekturze:\n",
    "\n",
    "**Wejście:** Obraz $x$ o rozmiarze $1 \\times 224 \\times 224$\n",
    "\n",
    "| Nr | Warstwa            | Parametry                                                                      |\n",
    "| -- | ------------------ | ------------------------------------------------------------------------------ |\n",
    "| 1  | $\\mathrm{Conv}$ C1 | filtr $5\\times5$, stride=1, padding=0, 6 filtrów, ReLU  |\n",
    "| 2  | $\\mathrm{Conv}$ C2 | filtr $3\\times3$, stride=1, padding=0, 16 filtrów, ReLU |\n",
    "\n",
    "\n",
    "\n",
    "Oblicz:\n",
    "1. Rozmiar wyjścia z warstwy C1.\n",
    "2. Rozmiar wyjścia z warstwy C2.\n",
    "3. Rozmiar okna (*receptive field*) na obrazie $x$ \"widzianego\" przez filtr konwolucyjny z warstwy C2.\n",
    "4. Dokładną liczbę parametrów (zarówno wag, jak i biasów) w warstwach C1 oraz C2.\n",
    "\n",
    "Zbuduj ten fragment sieci konwolucyjnej w PyTorch i zweryfikuj poprawność obliczeń. \n",
    "\n",
    "Rozwiąż to samo zadanie dla tej samej architektury z różnymi wariantami parametrów `stride` i `padding`."
   ]
  },
  {
   "cell_type": "markdown",
   "metadata": {},
   "source": [
    "### 3.\n",
    "\n",
    "\n",
    "Dany jest fragment sieci konwolucyjnej o architekturze:\n",
    "\n",
    "**Wejście:** Obraz $x$ o rozmiarze $1 \\times 224 \\times 224$.\n",
    "\n",
    "| Nr | Warstwa            | Parametry                                                                      |\n",
    "| -- | ------------------ | ------------------------------------------------------------------------------ |\n",
    "| 1  | $\\mathrm{Conv}$ C1 | filtr $5\\times5$, stride=1, padding=0, 6 filtrów, ReLU                        |\n",
    "| 2  | MaxPool P1         | okno $2\\times2$, stride=2                                                      |\n",
    "| 3  | $\\mathrm{Conv}$ C2 | filtr $3\\times3$, stride=1, padding=0, 16 filtrów, ReLU                       |\n",
    "| 4  | MaxPool P2         | okno $2\\times2$, stride=2                                                      |\n",
    "\n",
    "\n",
    "\n",
    "Oblicz:\n",
    "1. Rozmiary wyjścia z każdej kolejnej warstwy.\n",
    "2. Rozmiar okna na obrazie $x$ \"widzianego\" przez okno poolingu z warstwy P1.\n",
    "3. Rozmiar okna na obrazie $x$ \"widzianego\" przez filtr konwolucyjny z warstwy C2.\n",
    "4. Rozmiar okna na obrazie $x$ \"widzianego\" przez okno pooling z warstwy P2.\n",
    "5. Dokładną liczbę parametrów w sieci.\n",
    "\n",
    "Zbuduj ten fragment sieci konwolucyjnej w PyTorch i zweryfikuj poprawność obliczeń."
   ]
  },
  {
   "cell_type": "markdown",
   "metadata": {},
   "source": [
    "### 4. \n",
    "\n",
    "Oblicz ręcznie liczbę parametrów w sieci VGG16. Architekturę sieci znajdziesz w [C. Bishop, Deep Learning](https://www.bishopbook.com/), strona 300.\n",
    "\n",
    "Potwierdź poprawność obliczeń w PyTorch. Model z losowymi wagami (szybciej się ładuje) możesz pobrać przy pomocy: \n",
    "\n",
    "```python\n",
    "import torch\n",
    "import torchvision.models as models\n",
    "\n",
    "vgg16 = models.vgg16(pretrained=False)\n",
    "```\n",
    "\n",
    "Zobacz [torchvision.models](https://pytorch.org/vision/stable/models.html#torchvision.models.vgg16). "
   ]
  },
  {
   "cell_type": "markdown",
   "metadata": {},
   "source": [
    "### 5. \n",
    "\n",
    "Zaproponuj własną architekturę sieci CNN do klasyfikacji obrazów CIFAR-10. Są to obrazy kolorowe o rozmiarze $32 \\times 32$ pikseli i 10 klasach.\n",
    "\n",
    "Wykonaj testowy trening, aby upewnić się, że dane są poprawnie wczytywane i architektura działa. Dane można wczytać z repozytoriów PyTorch:\n",
    "\n",
    "```python\n",
    "from torchvision import datasets, transforms\n",
    "\n",
    "transform = transforms.Compose([\n",
    "    transforms.ToTensor(),\n",
    "    transforms.Normalize((0.5, 0.5, 0.5), (0.5, 0.5, 0.5))\n",
    "])\n",
    "trainset = datasets.CIFAR10(root='./data', train=True, download=True, transform=transform)\n",
    "testset = datasets.CIFAR10(root='./data', train=False, download=True, transform=transform)\n",
    "```"
   ]
  },
  {
   "cell_type": "markdown",
   "metadata": {},
   "source": [
    "### 6.\n",
    "\n",
    "Zaimplementuj w PyTorch własną sekwencyjną sieć konwolucyjną (bez pretrenowanych wag) do klasyfikacji zbioru Fashion-MNIST. Architektura powinna zawierać:\n",
    "\n",
    "1. Co najmniej 2 warstwy konwolucyjne\n",
    "2. Warstwę `BatchNorm2d` po każdej konwolucji\n",
    "3. Funkcje aktywacji `ReLU`\n",
    "4. Pooling do redukcji wymiarowości\n",
    "5. Klasyfikator w pełni połączony na końcu sieci\n",
    "\n",
    "Zadanie obejmuje:\n",
    "- Implementację modelu\n",
    "- Przygotowanie danych treningowych i testowych\n",
    "- Napisanie funkcji trenującej\n",
    "- Ewaluację dokładności na zbiorze testowym"
   ]
  }
 ],
 "metadata": {
  "kernelspec": {
   "display_name": "py312",
   "language": "python",
   "name": "python3"
  },
  "language_info": {
   "codemirror_mode": {
    "name": "ipython",
    "version": 3
   },
   "file_extension": ".py",
   "mimetype": "text/x-python",
   "name": "python",
   "nbconvert_exporter": "python",
   "pygments_lexer": "ipython3",
   "version": "3.12.4"
  }
 },
 "nbformat": 4,
 "nbformat_minor": 2
}

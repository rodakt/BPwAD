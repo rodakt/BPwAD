{
 "cells": [
  {
   "cell_type": "markdown",
   "metadata": {},
   "source": [
    "# Biblioteki Pythona w analizie danych\n",
    "### Tomasz Rodak\n",
    "\n",
    "Lab 6\n",
    "\n",
    "---\n",
    "\n"
   ]
  },
  {
   "cell_type": "markdown",
   "metadata": {},
   "source": [
    "### Zadanie 6.1\n",
    "\n",
    "Napisz klasę `ShiftFeatures` dziedziczącą po `BaseEstimator` i `TransformerMixin`. Obiekty tej klasy mają być transformatorami, które zwracają macierz cech przesuniętych względem zadanych punktów centralnych. \n",
    "\n",
    "Parametry klasy:\n",
    "- `centers` - tablica kształtu `(n_features, n_centers)` z punktami centralnymi, względem których mają być przesunięte cechy, gdzie\n",
    "  * `n_features` - liczba cech w oryginalnej macierzy danych,\n",
    "  * `n_centers` - liczba punktów centralnych.\n",
    "\n",
    "Metody klasy:\n",
    "- `fit(X, y=None)` - metoda, która przyjmuje macierz cech `X` i zwraca obiekt transformatora. \n",
    "- `transform(X)` - metoda, która przyjmuje macierz cech `X` i zwraca macierz cech przesuniętych względem punktów centralnych. \n",
    "\n",
    "Przykłady użycia:\n",
    "```python\n",
    ">>> # trzy jednowymiarowe punkty centralne\n",
    ">>> s = ShiftFeatures([\n",
    "...     [-100, 0, 100],\n",
    "... ])\n",
    ">>> X = np.arange(5).reshape(-1, 1)\n",
    ">>> s.fit(X)\n",
    "ShiftFeatures(centers=[-100, 0, 100])\n",
    ">>> s.transform(X)\n",
    "array([[ 100,    0, -100],\n",
    "       [ 101,    1,  -99],\n",
    "       [ 102,    2,  -98],\n",
    "       [ 103,    3,  -97],\n",
    "       [ 104,    4,  -96]])\n",
    ">>> # trzy dwuwymiarowe punkty centralne\n",
    ">>> s = ShiftFeatures([\n",
    "...     [-100, 0, 100], \n",
    "...     [-50, 0, 50],   \n",
    "... ])\n",
    ">>> X = np.arange(10).reshape(5, 2)\n",
    ">>> s.fit(X)\n",
    "ShiftFeatures(centers=[[-100, 0, 100], [-50, 0, 50]])\n",
    ">>> s.transform(X)\n",
    "array([[ 100,    0, -100,   51,    1,  -49],\n",
    "       [ 102,    2,  -98,   53,    3,  -47],\n",
    "       [ 104,    4,  -96,   55,    5,  -45],\n",
    "       [ 106,    6,  -94,   57,    7,  -43],\n",
    "       [ 108,    8,  -92,   59,    9,  -41]])\n",
    "```"
   ]
  },
  {
   "cell_type": "markdown",
   "metadata": {},
   "source": [
    "### Zadanie 6.2\n",
    "\n",
    "Wyznacz optymalne hiperparametry modelu dla regresji postaci\n",
    "\n",
    "\\begin{equation*}\n",
    "y = w_0 + w_1 \\phi_1(x) + w_2 \\phi_2(x) + \\ldots + w_{M-1} \\phi_{M-1}(x) + \\alpha \\|w\\|^2\n",
    "\\end{equation*}\n",
    "\n",
    "dla danych [`D1`](https://github.com/rodakt/BPwAD/tree/main/data/D1). W powyższym wzorze $\\phi_i(x)$ to funkcje bazowe, $w_i$ to współczynniki regresji a $\\alpha$ to współczynnik regularyzacji.\n",
    "\n",
    "Jako warianty funkcji bazowych rozważ:\n",
    "\n",
    "- funkcje gaussowskie: \n",
    "  $$\n",
    "  \\phi_i(x) = \\exp\\left(-\\frac{(x - c_i)^2}{2s^2}\\right)\n",
    "  $$\n",
    "- funkcje sigmoidalne: \n",
    "  $$\n",
    "  \\phi_i(x) = \\frac{1}{1 + \\exp\\left(-\\frac{x - c_i}{s}\\right)}\n",
    "  $$\n",
    "- ReLU: \n",
    "  $$\n",
    "  \\phi_i(x) = \\max\\left(0, \\frac{x - c_i}{s}\\right)\n",
    "  $$\n",
    "- inne funkcje bazowe, które przyjdą Ci do głowy.\n",
    "\n",
    "Wykorzystaj potoki z klasą `ShiftFeatures` i [`FunctionTransformer`](https://scikit-learn.org/stable/modules/generated/sklearn.preprocessing.FunctionTransformer.html) do transformacji cech. Optymalizację hiperparametrów przeprowadź w Optunie. Finalny model oceń na zbiorze testowym metryką RMSE. Jakiej wartości RMSE na zbiorze testowym możesz spodziewać się w najlepszym przypadku? "
   ]
  },
  {
   "cell_type": "markdown",
   "metadata": {},
   "source": [
    "### Zadanie 6.3\n",
    "\n",
    "Wykonaj zadanie analogiczne do 6.2 dla dziennych obserwacji liczby plam na słońcu: [*sunspots*](https://www.sidc.be/SILSO/datafiles). "
   ]
  }
 ],
 "metadata": {
  "kernelspec": {
   "display_name": "py312",
   "language": "python",
   "name": "python3"
  },
  "language_info": {
   "codemirror_mode": {
    "name": "ipython",
    "version": 3
   },
   "file_extension": ".py",
   "mimetype": "text/x-python",
   "name": "python",
   "nbconvert_exporter": "python",
   "pygments_lexer": "ipython3",
   "version": "3.12.4"
  }
 },
 "nbformat": 4,
 "nbformat_minor": 2
}

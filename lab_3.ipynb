{
 "cells": [
  {
   "cell_type": "markdown",
   "metadata": {},
   "source": [
    "# Biblioteki Pythona w analizie danych\n",
    "### Tomasz Rodak\n",
    "\n",
    "Lab 3\n",
    "\n",
    "---\n",
    "\n"
   ]
  },
  {
   "cell_type": "code",
   "execution_count": 2,
   "metadata": {},
   "outputs": [],
   "source": [
    "import requests\n",
    "import numpy as np\n",
    "import matplotlib.pyplot as plt\n",
    "\n",
    "from sklearn.datasets import make_blobs\n",
    "from sklearn.cluster import KMeans\n",
    "from sklearn.utils import shuffle"
   ]
  },
  {
   "cell_type": "markdown",
   "metadata": {},
   "source": [
    "## 1. Algorytm k-średnich. Segmentacja obrazów\n",
    "\n",
    "### 1.1 Demonstracja działania algorytmu k-średnich\n",
    "\n",
    "Podany niżej kod generuje kilka grup punktów na płaszczyźnie. Funkcja `make_blobs()` zwraca dwie wartości: macierz współrzędnych punktów oraz wektor etykiet, który określa przynależność punktów do grup. Parametry, z których korzystamy:\n",
    "* `n_samples` - liczba punktów,\n",
    "* `centers` - liczba grup,\n",
    "* `n_features` - liczba współrzędnych punktów, czyli wymiar przestrzeni, w której punkty są generowane,\n",
    "* `random_state` - ziarno generatora liczb losowych.\n",
    "\n",
    "Funkcja działa tak: najpierw losowane są współrzędne środków grup, następnie losowane są współrzędne punktów z każdej grupy. Wartości współrzędnych punktów są losowane z rozkładu normalnego o średniej równej środkowi grupy i odchyleniu standardowym równym 1. Wartości współrzędnych punktów są zapisywane w macierzy `X`, a etykiety w wektorze `y`. "
   ]
  },
  {
   "cell_type": "code",
   "execution_count": null,
   "metadata": {},
   "outputs": [],
   "source": [
    "n_samples = 500\n",
    "n_features = 2\n",
    "n_clusters = 5\n",
    "\n",
    "# Generate random sample data\n",
    "X, y = make_blobs(n_samples=n_samples, centers=n_clusters,\n",
    "                  n_features=n_features, random_state=1)\n",
    "plt.scatter(X[:, 0], X[:, 1], s=20);"
   ]
  },
  {
   "cell_type": "markdown",
   "metadata": {},
   "source": [
    "### 1.2\n",
    "Algorytm k-średnich jest rodzajem uczenia nienadzorowanego. Jego zadaniem jest przypisanie punktów do grup (poprzez nadanie im etykiet) w taki sposób, aby punkty wewnątrz grup były podobne do siebie, a różne grupy były od siebie różne. W przypadku wygenerowanych przez nas danych algorytm powinien odtworzyć etykiety `y` na podstawie współrzędnych punktów `X`. Cechą algorytmu k-średnich jest to, że liczba grup musi być z góry znana (tzn. przewidziana na jakiejś innej drodze). Jest to hiperparametr algorytmu, który musi być przekazany do algorytmu przed rozpoczęciem procesu uczenia.\n",
    "\n",
    "Algorytm działa iteracyjnie. W każdej iteracji wyznaczane są nowe środki grup, a następnie punkty są przypisywane do grup na podstawie odległości od środków. Wartość odległości jest obliczana na podstawie wybranej metryki. My skorzystamy z (domyślnej) metryki euklidesowej.\n",
    "\n",
    "Poniżej znajduje się kod, który trenuje algorytm k-średnich na wygenerowanych przez nas danych.\n",
    "* Wyznacz środki grup.\n",
    "* Wygeneruj przewidywane etykiety dla danych `X` (metoda `predict()`). Czy wyglądają one podobnie do prawdziwych etykiet `y`? Co się dzieje, gdy generujesz etykiety powtórnie?\n",
    "* Narysuj dane `X` na płaszczyźnie, kolorując punkty zgodnie z przewidywanymi etykietami. Czy algorytm dobrze przypisał punkty do grup? Przeprowadź eksperymenty z różnymi wartościami hiperparametru `n_clusters`.\n",
    "* Jaką rolę pełni hiperparametr `n_init`?"
   ]
  },
  {
   "cell_type": "code",
   "execution_count": null,
   "metadata": {},
   "outputs": [],
   "source": []
  },
  {
   "cell_type": "code",
   "execution_count": null,
   "metadata": {},
   "outputs": [],
   "source": []
  },
  {
   "cell_type": "markdown",
   "metadata": {},
   "source": [
    "## 2. Segmentacja obrazów\n",
    "\n",
    "### 2.1\n",
    "\n",
    "Segmentacja obrazów to proces podziału obrazu na obszary, które są podobne do siebie. W przypadku obrazów rastrowych podobieństwo obszarów jest zwykle określane na podstawie podobieństwa wartości pikseli. Celem tej sekcji jest zastosowanie algorytmu k-średnich do wybranego obrazu RGB.\n",
    "\n",
    "Pobierz dowolny obraz RGB z internetu i zapisz na dysku. Wykorzystaj bibliotekę `requests`. Nie ma znaczenia, jaki to będzie obraz, ważne, żeby był rastrem RGB i najlepiej, żeby był kolorowy. Typowe formaty takich obrazów to `jpg`, `png` czy `bmp`. \n",
    "\n",
    "Przykład: [latolistek cytrynek](https://upload.wikimedia.org/wikipedia/commons/thumb/0/0f/Common_brimstone_%28Gonepteryx_rhamni%29_female_underside.JPG/1280px-Common_brimstone_%28Gonepteryx_rhamni%29_female_underside.JPG), zdjęcie z Wikipedii."
   ]
  },
  {
   "cell_type": "code",
   "execution_count": null,
   "metadata": {},
   "outputs": [],
   "source": []
  },
  {
   "cell_type": "code",
   "execution_count": null,
   "metadata": {},
   "outputs": [],
   "source": []
  },
  {
   "cell_type": "markdown",
   "metadata": {},
   "source": [
    "### 2.2\n",
    "Wykorzystaj funkcję `open()` z modułu `PIL.Image` do wczytania obrazu z dysku. Wyświetl obraz w notatniku."
   ]
  },
  {
   "cell_type": "code",
   "execution_count": null,
   "metadata": {},
   "outputs": [],
   "source": []
  },
  {
   "cell_type": "code",
   "execution_count": null,
   "metadata": {},
   "outputs": [],
   "source": []
  },
  {
   "cell_type": "markdown",
   "metadata": {},
   "source": [
    "### 2.3\n",
    "\n",
    "\n",
    "Przekształć obiekt obrazu do trójwymiarowej tablicy `numpy` (wystarczy wywołać funkcję `np.array()` na obrazie).\n",
    "Wyświetl wymiary tablicy. Porównaj je z wymiarami obrazu."
   ]
  },
  {
   "cell_type": "code",
   "execution_count": null,
   "metadata": {},
   "outputs": [],
   "source": []
  },
  {
   "cell_type": "code",
   "execution_count": null,
   "metadata": {},
   "outputs": [],
   "source": []
  },
  {
   "cell_type": "markdown",
   "metadata": {},
   "source": [
    "### 2.4\n",
    "\n",
    "Zmień kształt tablicy na dwuwymiarową, tak aby każdy wiersz tablicy zawierał trzy kanały RGB dla jednego piksela. Wykorzystaj metodę tablic `reshape()`. "
   ]
  },
  {
   "cell_type": "code",
   "execution_count": null,
   "metadata": {},
   "outputs": [],
   "source": []
  },
  {
   "cell_type": "code",
   "execution_count": null,
   "metadata": {},
   "outputs": [],
   "source": []
  },
  {
   "cell_type": "markdown",
   "metadata": {},
   "source": [
    "### 2.5\n",
    "\n",
    "Przeprowadź na utworzonej powyżej tablicy 2D algorytm k-średnich. Na początek wybierz liczbę grup `n_clusters` równą 2. Potem przeprowadź eksperymenty z innymi wartościami tego hiperparametru.\n",
    "\n",
    "Po zastosowaniu algorytmu utwórz nową tablicę, w której każdy piksel będzie miał wartość środka grupy, do której został przypisany.\n",
    "Wygenerowane centra będą typu `float`. Przekształć je do typu `uint8` (metoda `astype()`) zanim wykonasz mapowanie centrów na piksele (wymaga tego funkcja `Image.fromarray()`).\n",
    "Zmień kształt tak uzyskanej tablicy na kształt obrazu wejściowego (`reshape()`) i utwórz obraz (`Image.fromarray()`)."
   ]
  },
  {
   "cell_type": "code",
   "execution_count": null,
   "metadata": {},
   "outputs": [],
   "source": []
  },
  {
   "cell_type": "code",
   "execution_count": null,
   "metadata": {},
   "outputs": [],
   "source": []
  }
 ],
 "metadata": {
  "kernelspec": {
   "display_name": "python3.11",
   "language": "python",
   "name": "python3"
  },
  "language_info": {
   "codemirror_mode": {
    "name": "ipython",
    "version": 3
   },
   "file_extension": ".py",
   "mimetype": "text/x-python",
   "name": "python",
   "nbconvert_exporter": "python",
   "pygments_lexer": "ipython3",
   "version": "3.11.3"
  }
 },
 "nbformat": 4,
 "nbformat_minor": 2
}

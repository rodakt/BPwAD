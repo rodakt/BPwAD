{
 "cells": [
  {
   "cell_type": "code",
   "execution_count": 22,
   "id": "cdfa981b",
   "metadata": {},
   "outputs": [],
   "source": [
    "import numpy as np\n",
    "import pandas as pd\n",
    "import seaborn as sns\n",
    "from sklearn.model_selection import train_test_split"
   ]
  },
  {
   "cell_type": "code",
   "execution_count": 26,
   "id": "496f646d",
   "metadata": {},
   "outputs": [],
   "source": [
    "# okrąg\n",
    "np.random.seed(42)\n",
    "R = 10\n",
    "t = np.linspace(0, 2 * np.pi, 5000)\n",
    "X1 = R * np.cos(t) + np.random.normal(0, 1, t.shape)\n",
    "X2 = R * np.sin(t) + np.random.normal(0, 1, t.shape)\n",
    "X = np.hstack((X1[:, np.newaxis], X2[:, np.newaxis]))\n",
    "# koło1\n",
    "X = np.vstack((X, np.hstack((\n",
    "    np.random.normal(-3, 1, 5000)[:, np.newaxis],\n",
    "    np.random.normal(4, 1, 5000)[:, np.newaxis]\n",
    "))))\n",
    "# koło2\n",
    "X = np.vstack((X, np.hstack((\n",
    "    np.random.normal(3, 1, 5000)[:, np.newaxis],\n",
    "    np.random.normal(4, 1, 5000)[:, np.newaxis]\n",
    "))))\n",
    "# łuk\n",
    "R = 5\n",
    "t = np.linspace(-np.pi, 0, 5000)\n",
    "X = np.vstack((X, np.hstack((\n",
    "    (R * np.cos(t) + np.random.normal(0, 1, t.shape))[:, np.newaxis],\n",
    "    (R * np.sin(t) + np.random.normal(0, 1, t.shape))[:, np.newaxis]\n",
    "))))\n",
    "y = np.hstack((\n",
    "    np.zeros(5000),\n",
    "    np.zeros(5000) + 1,\n",
    "    np.zeros(5000) + 2,\n",
    "    np.zeros(5000) + 3\n",
    "))\n",
    "X_train, X_test, y_train, y_test = train_test_split(X, y, test_size=0.5, random_state=42)\n",
    "df_train = pd.DataFrame(X_train, columns=['x1', 'x2'])\n",
    "df_train['y'] = y_train\n",
    "df_test = pd.DataFrame(X_test, columns=['x1', 'x2'])\n",
    "df_test['y'] = y_test\n",
    "df_train.to_csv('train.csv', index=False)\n",
    "df_test.to_csv('test.csv', index=False)"
   ]
  }
 ],
 "metadata": {
  "kernelspec": {
   "display_name": "py312",
   "language": "python",
   "name": "python3"
  },
  "language_info": {
   "codemirror_mode": {
    "name": "ipython",
    "version": 3
   },
   "file_extension": ".py",
   "mimetype": "text/x-python",
   "name": "python",
   "nbconvert_exporter": "python",
   "pygments_lexer": "ipython3",
   "version": "3.12.4"
  }
 },
 "nbformat": 4,
 "nbformat_minor": 5
}

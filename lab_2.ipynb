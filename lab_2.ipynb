{
 "cells": [
  {
   "cell_type": "markdown",
   "metadata": {},
   "source": [
    "# Biblioteki Pythona w analizie danych\n",
    "## Tomasz Rodak\n",
    "\n",
    "Lab II\n",
    "\n",
    "\n",
    "---\n",
    "\n",
    "W tym arkuszu będziemy przetwarzać w NumPy obrazy rastrowe. Obrazy rastrowe to tablice pikseli, z których każdy ma przypisaną wartość koloru. W przypadku obrazów RGB, każdy piksel ma trzy wartości: intensywność koloru czerwonego, zielonego i niebieskiego. Wartości te są zazwyczaj z zakresu 0-255, gdzie 0 oznacza brak danego koloru, a 255 - jego maksymalną intensywność. Zakres 0-255 to dokładnie jeden bajt, w NumPy reprezentowany jako `uint8`. Istnieją również obrazy w skali szarości, gdzie każdy piksel ma jedną wartość z zakresu 0-255 i oznacza ona jasność piksela oraz obrazy binarne (czarno-białe), gdzie piksel może przyjmować jedną z dwóch wartości: 0 (czarny) lub 255 (biały).\n",
    "\n",
    "Pomostem między obrazem reprezentowanym jako tablica NumPy a obrazem wyświetlanym na ekranie będzie dla nas biblioteka [Pillow](https://pillow.readthedocs.io/en/stable/index.html) (`PIL` - *Python Imaging Library*), która jest interfejsem języka Python do przetwarzania plików graficznych.\n",
    "\n",
    "## 1.\n",
    "\n",
    "Celem tego zadania jest wymiana mapy kolorów w obrazku RGB. \n",
    "\n",
    "### 1.1\n",
    "\n",
    "Pobierz obrazek RGB (np. [ten](https://upload.wikimedia.org/wikipedia/commons/thumb/d/d3/HepaticaNobilisSLO_flower.JPG/1024px-HepaticaNobilisSLO_flower.JPG)) i wyświetl na ekranie. Wykorzystaj funkcje `Image.open()` z biblioteki `PIL`. \n",
    "\n",
    "1. Jakie są wymiary obrazka?\n",
    "2. Ile ma pikseli?\n",
    "3. Jaki jest jego \"tryb\" (*mode*)?\n",
    "4. Jaki jest jego format?"
   ]
  },
  {
   "cell_type": "code",
   "execution_count": null,
   "metadata": {},
   "outputs": [],
   "source": []
  },
  {
   "cell_type": "code",
   "execution_count": null,
   "metadata": {},
   "outputs": [],
   "source": []
  },
  {
   "cell_type": "markdown",
   "metadata": {},
   "source": [
    "### 1.2\n",
    "\n",
    "Zamień obrazek na dwuwymiarową tablicę NumPy o trzech kolumnach, gdzie każda kolumna reprezentuje składową RGB (czerwony, zielony, niebieski). Ile unikalnych kolorów występuje w obrazku?"
   ]
  },
  {
   "cell_type": "code",
   "execution_count": null,
   "metadata": {},
   "outputs": [],
   "source": []
  },
  {
   "cell_type": "code",
   "execution_count": null,
   "metadata": {},
   "outputs": [],
   "source": []
  },
  {
   "cell_type": "markdown",
   "metadata": {},
   "source": [
    "### 1.3\n",
    "\n",
    "Stwórz tablicę `kolory` będącą mapą kolorów o kształcie `(liczba_kolorów_w_mapie, 3)`. Każdy wiersz w tej tablicy powinien zawierać wartości RGB jednego koloru z mapy. Liczbę kolorów w mapie i wartości RGB wybierz dowolnie. Możesz skorzystać z tablicy kolorów z [tej strony](https://www.rapidtables.com/web/color/RGB_Color.html).\n"
   ]
  },
  {
   "cell_type": "code",
   "execution_count": null,
   "metadata": {},
   "outputs": [],
   "source": []
  },
  {
   "cell_type": "code",
   "execution_count": null,
   "metadata": {},
   "outputs": [],
   "source": []
  },
  {
   "cell_type": "markdown",
   "metadata": {},
   "source": [
    "\n",
    "### 1.4\n",
    "\n",
    "Dla każdego piksela w obrazku:\n",
    "* Oblicz odległość euklidesową między wartościami RGB piksela a wartościami RGB każdego koloru z mapy kolorów.\n",
    "* Znajdź kolor z mapy kolorów, dla którego odległość euklidesowa jest minimalna.\n",
    "* Zamień wartości RGB piksela na wartości RGB znalezionego koloru.\n",
    "\n",
    "*Wskazówka*: `(N, 3), (k, 3) -> (N, 1, 3), (1, k, 3) -> (N, k, 3) -> (N, k) -> (N, )` gdzie `N` to liczba pikseli, a `k` to liczba kolorów w mapie."
   ]
  },
  {
   "cell_type": "code",
   "execution_count": null,
   "metadata": {},
   "outputs": [],
   "source": []
  },
  {
   "cell_type": "code",
   "execution_count": null,
   "metadata": {},
   "outputs": [],
   "source": []
  },
  {
   "cell_type": "markdown",
   "metadata": {},
   "source": [
    "\n",
    "### 1.5\n",
    "\n",
    "Zamień dwuwymiarową tablicę NumPy z powrotem na obrazek `Image` za pomocą funkcji `Image.fromarray()`.\n",
    "Wyświetl nowy obrazek."
   ]
  },
  {
   "cell_type": "code",
   "execution_count": null,
   "metadata": {},
   "outputs": [],
   "source": []
  },
  {
   "cell_type": "code",
   "execution_count": null,
   "metadata": {},
   "outputs": [],
   "source": []
  },
  {
   "cell_type": "markdown",
   "metadata": {},
   "source": [
    "## 2.\n",
    "\n",
    "Napisz program, który utworzy obrazek szachownicy 8x8 pól.\n",
    "<br><br>\n",
    "<center>\n",
    "    <img src=\"data:image/png;base64,iVBORw0KGgoAAAANSUhEUgAAAfQAAAH0CAAAAADuvYBWAAAE4ElEQVR4nO3dwW0DMQwAQZ+RUnVVpVinhVCPs4DZ+RMSsOCb13pF8/72B/K8ooOKDio6qOigooOKDio6qOigooOKDio6qOigooOKDio6qOigooOKDio6qOigooOKDio6qOigooOKDio6qOigooOKDio6qOigooOKDio6qOigooOKDio6qOigooOKDio6qOigooOKDio6qOign/nI73jiGk98euPf5rc52nRQ0UFFBxUdVHRQ0UFFBxUdVHRQ0UFFBxUdVHRQ0UFFBxUdVHRQ0UFFBxUdVHRQ0UFFBxUdVHRQ0UFFBxUdVHRQ0UFFBxUdVHRQ0UFFBxUdVHRQ0UFFBxUdVHRQ0UFFBxUdVHRQ0UFFBxUdVHTQxmWHM+8buG/c44k2HVR0UNFBRQcVHVR0UNFBRQcVHVR0UNFBRQcVHVR0UNFBRQcVHVR0UNFBRQcVHVR0UNFBRQcVHVR0UNFBRQcVHVR0UNFBRQcVHVR0UNFBRQcVHVR0UNFBRQcVHVR0UNFBRQcVHVR0UNFBRQcVHbRx2eHM+wbuG2s80aaDig4qOqjooKKDig4qOqjooKKDig4qOqjooKKDig4qOqjooKKDig4qOqjooKKDig4qOqjooKKDig4qOqjooKKDig4qOqjooKKDig4qOqjooKKDig4qOqjooKKDig4qOqjooKKDig4qOqjooKKDNi47nHnfwH3jHk+06aCig4oOKjqo6KCig4oOKjqo6KCig4oOKjqo6KCig4oOKjqo6KCig4oOKjqo6KCig4oOKjqo6KCig4oOKjqo6KCig4oOKjqo6KCig4oOKjqo6KCig4oOKjqo6KCig4oOKjqo6KCig4oOKjqo6KCNyw5n3jdw31jjiTYdVHRQ0UFFBxUdVHRQ0UFFBxUdVHRQ0UFFBxUdVHRQ0UFFBxUdVHRQ0UFFBxUdVHRQ0UFFBxUdVHRQ0UFFBxUdVHRQ0UFFBxUdVHRQ0UFFBxUdVHRQ0UFFBxUdVHRQ0UFFBxUdVHRQ0UFFBxUdtHHZ4cz7Bu4b93iiTQcVHVR0UNFBRQcVHVR0UNFBRQcVHVR0UNFBRQcVHVR0UNFBRQcVHVR0UNFBRQcVHVR0UNFBRQcVHVR0UNFBRQcVHVR0UNFBRQcVHVR0UNFBRQcVHVR0UNFBRQcVHVR0UNFBRQcVHVR0UNFBRQdtXHY4876B+8YaT7TpoKKDig4qOqjooKKDig4qOqjooKKDig4qOqjooKKDig4qOqjooKKDig4qOqjooKKDig4qOqjooKKDig4qOqjooKKDig4qOqjooKKDig4qOqjooKKDig4qOqjooKKDig4qOqjooKKDig4qOqjooI3LDmfeN3DfuMcTbTqo6KCig4oOKjqo6KCig4oOKjqo6KCig4oOKjqo6KCig4oOKjqo6KCig4oOKjqo6KCig4oOKjqo6KCig4oOKjqo6KCig4oOKjqo6KCig4oOKjqo6KCig4oOKjqo6KCig4oOKjqo6KCig4oOKjroWt/+QR7XpoOKDio6qOigooOKDio6qOigooOKDio6qOigooOKDio6qOigooOKDio6qOigooOKDio6qOigooOKDio6qOigooOKDio6qOigooOKDio6qOigooOKDio6qOigooOKDio6qOigooOKDio6qOigooP+ABtfJ39Gqc5xAAAAAElFTkSuQmCC\"/>\n",
    "</center>\n",
    "\n",
    "Wymiary:\n",
    "* pola - 50x50 pikseli czarne i białe;\n",
    "* tło - 500x500 pikseli w szarości 100.\n",
    "\n",
    "Szachownica powinna znajdować się w centrum rysunku, czarne pole w lewym dolnym rogu."
   ]
  }
 ],
 "metadata": {
  "kernelspec": {
   "display_name": "py312",
   "language": "python",
   "name": "python3"
  },
  "language_info": {
   "codemirror_mode": {
    "name": "ipython",
    "version": 3
   },
   "file_extension": ".py",
   "mimetype": "text/x-python",
   "name": "python",
   "nbconvert_exporter": "python",
   "pygments_lexer": "ipython3",
   "version": "3.12.4"
  }
 },
 "nbformat": 4,
 "nbformat_minor": 2
}

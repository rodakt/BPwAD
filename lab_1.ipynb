{
 "cells": [
  {
   "cell_type": "markdown",
   "metadata": {},
   "source": [
    "# Biblioteki Pythona w analizie danych\n",
    "\n",
    "## Tomasz Rodak\n",
    "\n",
    "Lab 1\n",
    "\n",
    "---\n",
    "\n",
    "Literatura:\n",
    "\n",
    "- [PRML](https://www.microsoft.com/en-us/research/uploads/prod/2006/01/Bishop-Pattern-Recognition-and-Machine-Learning-2006.pdf) Christopher M. Bishop, \"Pattern Recognition and Machine Learning\", 2006.\n",
    "- [PML-1](https://probml.github.io/pml-book/) Kevin P. Murphy, \"Probabilistic Machine Learning: An Introduction\", 2022.\n",
    "- [Dokumentacja NumPy](https://numpy.org/doc/stable/)\n",
    "\n",
    "## NumPy\n",
    "\n",
    "Zapoznaj się z podstawowymi funkcjami biblioteki NumPy: [Numpy: the absolute basics for beginners](https://numpy.org/doc/stable/user/absolute_beginners.html).\n",
    "\n",
    "W zadaniach poniżej wykorzystaj:\n",
    "- `np.random.normal()` do generowania zmiennych losowych,\n",
    "- wektoryzację operacji arytmetycznych, np. jeśli `A` i `B` to tablice numeryczne NumPy o takich samych wymiarach, to `A + B` zwraca tablicę, której elementy to sumy odpowiadających elementów tablic `A` i `B`,\n",
    "- operator `@` do mnożenia macierzy,\n",
    "- `np.linalg.inv()` do obliczenia odwrotności macierzy,\n",
    "- `np.linalg.svd()` do rozkładu SVD macierzy,\n",
    "- `np.transpose()` lub `.T` do transpozycji macierzy,\n",
    "- `@` do mnożenia macierzy.\n",
    "\n",
    "\n"
   ]
  },
  {
   "cell_type": "markdown",
   "metadata": {},
   "source": [
    "## 1. Regresja liniowa z wykorzystaniem NumPy\n",
    "\n",
    "Celem ćwiczenia jest implementacja regresji liniowej z wykorzystaniem biblioteki NumPy. Zamiast gotowych narzędzi jak sklearn, wykorzystamy operacje algebraiczne do obliczenia współczynników modelu oraz oceny jego jakości.\n",
    "\n",
    "Zaczniemy od wygenerowania sztucznych danych, które posłużą nam do przetestowania implementacji.\n",
    "\n",
    "\n",
    "### 1.1 Generowanie danych\n",
    "\n",
    "\n",
    "Niech $w_0,w_1,\\ldots,w_p$, $X_1,X_2,\\ldots,X_p$ oraz $\\varepsilon$ będą niezależnymi zmiennymi losowymi o rozkładach:\n",
    "\n",
    "\\begin{align*}\n",
    "w_i&\\sim\\mathcal{N}(0,1),\\ i=0,1,\\ldots,p,\\\\\n",
    "X_j&\\sim\\mathcal{N}(0,1),\\ j=1,2,\\ldots,p,\\\\\n",
    "\\varepsilon&\\sim\\mathcal{N}(0,\\sigma^2),\n",
    "\\end{align*}\n",
    "\n",
    "gdzie $\\mathcal{N}(\\mu,\\sigma^2)$ oznacza rozkład normalny o średniej $\\mu$ i wariancji $\\sigma^2$.\n",
    "\n",
    "Gdy parametry $w_0,w_1,\\ldots,w_p$ są znane, to zmienną zależną $Y$ definiujemy wzorem:\n",
    "\n",
    "\\begin{equation}\n",
    "Y = w_0 + w_1 X_1 + w_2 X_2 + \\ldots + w_p X_p + \\varepsilon.\n",
    "\\end{equation}\n",
    "\n",
    "Wygeneruj w Numpy zbiór danych zgodnie z powyższym modelem:\n",
    "\n",
    "1. Zaimportuj bibliotekę NumPy.\n",
    "2. Wygeneruj losowy wektor współczynników `w` o długości $p+1$ (uwzględniając wyraz wolny). Przyjmij $p=5$.\n",
    "3. Utwórz zbiór obserwacji zmiennych niezależnych `X` składający się z $N=1000$ obserwacji i $p=5$ zmiennych niezależnych.\n",
    "4. Stwórz zmienną zależną `y` zgodnie z podanym wyżej modelem. Przyjmij $\\sigma=2.0$."
   ]
  },
  {
   "cell_type": "code",
   "execution_count": null,
   "metadata": {},
   "outputs": [],
   "source": []
  },
  {
   "cell_type": "code",
   "execution_count": null,
   "metadata": {},
   "outputs": [],
   "source": []
  },
  {
   "cell_type": "markdown",
   "metadata": {},
   "source": [
    "### 1.2 Obliczenie całkowitej sumy kwadratów (TSS)\n",
    "\n",
    "TSS (*Total Sum of Squares*) to suma kwadratów różnic między wartościami zmiennej zależnej `y` a ich średnią:\n",
    "\n",
    "\\begin{equation*}\n",
    "\\text{TSS} = \\sum_{i=1}^{N} (y_i - \\bar{y})^2\n",
    "\\end{equation*}\n",
    "\n",
    "gdzie $\\bar{y}$ to średnia wartość zmiennej `y`. Wielkość tę można interpretować jako całkowitą wariancję zmiennej zależnej. Można też powiedzieć, że jest to ocena bazowego modelu wyznaczonego przez średnią wartość zmiennej zależnej.\n",
    "\n",
    "1. Oblicz średnią wartość zmiennej `y`.\n",
    "2. Korzystając z definicji oblicz TSS."
   ]
  },
  {
   "cell_type": "code",
   "execution_count": null,
   "metadata": {},
   "outputs": [],
   "source": []
  },
  {
   "cell_type": "code",
   "execution_count": null,
   "metadata": {},
   "outputs": [],
   "source": []
  },
  {
   "cell_type": "markdown",
   "metadata": {},
   "source": [
    "### 1.3 Implementacja regresji liniowej\n",
    "\n",
    "\n",
    "1. Dodaj kolumnę jedynek do macierzy `X` jako pierwszą kolumnę (odpowiadającą wyrazowi wolnemu).\n",
    "2. Oblicz estymator współczynników regresji $\\mathbf{w}_{\\text{ML}} = (\\mathbf{X}^T\\mathbf{X})^{-1}\\mathbf{X}^T\\mathbf{y}$, gdzie $\\mathbf{X}$ to macierz obserwacji zmiennych $X_i$ rozszerzona o kolumnę jedynek, a $\\mathbf{y}$ to wektor wartości zmiennej $Y$. Zobacz jak duże, co do wartości bezwzględnej, są wpisy w macierzy $(\\mathbf{X}^T\\mathbf{X})^{-1}$. Jak wygląda struktura wartości własnych tej macierzy?\n",
    "3. Porównaj wartości estymowanych parametrów z wartościami rzeczywistymi. Oblicz błędy względne."
   ]
  },
  {
   "cell_type": "code",
   "execution_count": null,
   "metadata": {},
   "outputs": [],
   "source": []
  },
  {
   "cell_type": "code",
   "execution_count": null,
   "metadata": {},
   "outputs": [],
   "source": []
  },
  {
   "cell_type": "markdown",
   "metadata": {},
   "source": [
    "### 1.4 Ocena jakości modelu\n",
    "\n",
    "RSS (*Residual Sum of Squares*) to suma kwadratów reszt, czyli różnic między rzeczywistymi wartościami $y_i$ a przewidywanymi $\\hat{y}_i$ (jak wygląda wzór na $\\hat{y}_i$?):\n",
    "\n",
    "\\begin{equation*}\n",
    "\\text{RSS} = \\sum_{i=1}^{N} (y_i - \\hat{y}_i)^2\n",
    "\\end{equation*}\n",
    "\n",
    "Wielkość ta jest miarą dopasowania modelu do danych. Parametry modelu są tak dobrane, aby minimalizować RSS na zbiorze treningowym.\n",
    "\n",
    "Współczynnik determinacji $R^2$ to stosunek wariancji wyjaśnionej przez model do całkowitej wariancji zmiennej zależnej:\n",
    "\n",
    "\\begin{equation*}\n",
    "R^2 = \\frac{\\text{TSS} - \\text{RSS}}{\\text{TSS}}= 1 - \\frac{\\text{RSS}}{\\text{TSS}}\n",
    "\\end{equation*}\n",
    "\n",
    "\n",
    "1. Oblicz przewidywane wartości $\\hat{y_i}$, $i=1,\\ldots,N$.\n",
    "2. Oblicz RSS.\n",
    "3. Oblicz współczynnik determinacji $R^2$."
   ]
  },
  {
   "cell_type": "code",
   "execution_count": null,
   "metadata": {},
   "outputs": [],
   "source": []
  },
  {
   "cell_type": "code",
   "execution_count": null,
   "metadata": {},
   "outputs": [],
   "source": []
  },
  {
   "cell_type": "markdown",
   "metadata": {},
   "source": [
    "### Pytania dodatkowe\n",
    "\n",
    "Zobacz jak zmienia się wartość TSS, RSS i $R^2$ w zależności od:\n",
    "1. wariancji szumu,\n",
    "2. liczby obserwacji $N$,\n",
    "3. liczby zmiennych niezależnych $p$."
   ]
  },
  {
   "cell_type": "markdown",
   "metadata": {},
   "source": [
    "## 2. Przypadek występowania zależności między zmiennymi\n",
    "\n",
    "W poprzednim zadaniu zakładaliśmy, że zmienne losowe $X_1,\\ldots,X_p$ są niezależne, co powodowało, że macierz $\\mathbf{X}^T\\mathbf{X}$ była odwracalna a estymator $\\mathbf{w}_{\\text{ML}}$ dobrze aproksymował parametry modelu. Teraz załóżmy, że jedna ze zmiennych, powiedzmy $X_p$, wyraża, z pewnym błędem, jako liniowa kombinacja innych zmiennych, np:\n",
    "\n",
    "\\begin{equation}\n",
    "X_p = 2X_1 - X_2 + \\varepsilon_p,\n",
    "\\end{equation}\n",
    "\n",
    "gdzie $\\varepsilon_p\\sim\\mathcal{N}(0,\\sigma_p^2)$.\n",
    "\n",
    "Przeprowadź analogiczne analizy jak w poprzednim zadaniu. Czy zmiana struktury zmiennych niezależnych wpływa na jakość modelu? Jak teraz wygląda macierz $(\\mathbf{X}^T\\mathbf{X})^{-1}$? Jak wyglądają wartości własne macierzy $\\mathbf{X}^T\\mathbf{X}$?"
   ]
  },
  {
   "cell_type": "code",
   "execution_count": null,
   "metadata": {},
   "outputs": [],
   "source": []
  },
  {
   "cell_type": "code",
   "execution_count": null,
   "metadata": {},
   "outputs": [],
   "source": []
  },
  {
   "cell_type": "markdown",
   "metadata": {},
   "source": [
    "## 3. Schemat aktywności Słońca\n",
    "\n",
    "Na [Solar Influences Data Analysis Center (SIDC)](https://sidc.be/SILSO/datafiles) znajduje się baza danych dotycząca aktywności Słońca. Celem zadania jest wyznaczenie przeciętnej liczby plam słonecznych w zależności od czasu."
   ]
  },
  {
   "cell_type": "markdown",
   "metadata": {},
   "source": [
    "### 3.1. Wczytanie danych\n",
    "\n",
    "Pobierz [dane (Sunspot Number)](https://sidc.be/SILSO/INFO/sndtotcsv.php) w formacie CSV. Dane te są dostępne od roku 1818. Dane możesz pobrać ręcznie, ale wygodniej będzie zrobić to wykorzystując bibliotekę `requests`:\n",
    "\n",
    "```python\n",
    "import requests\n",
    "\n",
    "url = 'https://sidc.be/SILSO/INFO/sndtotcsv.php'\n",
    "r = requests.get(url)\n",
    "with open('sunspots.csv', 'wb') as f:\n",
    "    f.write(r.content)\n",
    "```"
   ]
  },
  {
   "cell_type": "code",
   "execution_count": null,
   "metadata": {},
   "outputs": [],
   "source": []
  },
  {
   "cell_type": "code",
   "execution_count": null,
   "metadata": {},
   "outputs": [],
   "source": []
  },
  {
   "cell_type": "markdown",
   "metadata": {},
   "source": [
    "### 3.2. Przygotowanie i wizualizacja\n",
    "\n",
    "1. Dane wczytaj do obiektu DataFrame biblioteki Pandas.\n",
    "2. Sprawdź typy danych i usuń ewentualne braki (zobacz dokumentację zbioru na stronie SIDC).\n",
    "3. Wyświetl wykres rozproszenia liczby plam słonecznych w zależności od czasu."
   ]
  },
  {
   "cell_type": "code",
   "execution_count": null,
   "metadata": {},
   "outputs": [],
   "source": []
  },
  {
   "cell_type": "code",
   "execution_count": null,
   "metadata": {},
   "outputs": [],
   "source": []
  },
  {
   "cell_type": "markdown",
   "metadata": {},
   "source": [
    "### 3.3 Regresja liniowa\n",
    "\n",
    "1. Stwórz tablicę `X` zawierającą rok jako zmienną niezależną oraz tablicę `y` zawierającą liczbę plam słonecznych jako zmienną zależną.\n",
    "2. Zastosuj regresję liniową do wyznaczenia przeciętnej liczby plam słonecznych w zależności od roku. Wykorzystaj bazę funkcji składających się z wyrazu wolnego oraz funkcji bazowych Gaussa: \n",
    "\\begin{equation*}\n",
    "\\phi_i(x) = \\exp\\left(-\\frac{(x - c_i)^2}{\\sigma^2}\\right),\n",
    "\\end{equation*}\n",
    "gdzie $c_i$ to równo odległe punkty na odcinku $[X_{\\text{min}},X_{\\text{max}}]$ oraz $\\sigma>0$ to parametr kontrolujący szerokość funkcji Gaussa.\n",
    "3. Wyświetl wykres przeciętnej liczby plam słonecznych w zależności od roku wraz z wykresem rozproszenia danych.\n",
    "4. Przetestuj inne typy funkcji bazowych, np. funkcję sigmoidalną \n",
    "\\begin{equation*}\n",
    "\\phi_i(x) = \\frac{1}{1 + \\exp\\left(-\\frac{x - c_i}{\\sigma}\\right)}\n",
    "\\end{equation*}\n",
    "lub ReLU\n",
    "\\begin{equation*}\n",
    "\\phi_i(x) = \\max(0, x - c_i).\n",
    "\\end{equation*}\n",
    "\n"
   ]
  },
  {
   "cell_type": "code",
   "execution_count": null,
   "metadata": {},
   "outputs": [],
   "source": []
  },
  {
   "cell_type": "code",
   "execution_count": null,
   "metadata": {},
   "outputs": [],
   "source": []
  }
 ],
 "metadata": {
  "kernelspec": {
   "display_name": "py312",
   "language": "python",
   "name": "python3"
  },
  "language_info": {
   "codemirror_mode": {
    "name": "ipython",
    "version": 3
   },
   "file_extension": ".py",
   "mimetype": "text/x-python",
   "name": "python",
   "nbconvert_exporter": "python",
   "pygments_lexer": "ipython3",
   "version": "3.12.4"
  }
 },
 "nbformat": 4,
 "nbformat_minor": 2
}

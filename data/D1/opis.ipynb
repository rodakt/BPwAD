{
 "cells": [
  {
   "cell_type": "markdown",
   "id": "fb55f109",
   "metadata": {},
   "source": [
    "# D1\n",
    "\n",
    "Dane wygenerowane z rozkładu:\n",
    "\n",
    "\n",
    "\\begin{equation*}\n",
    "X\\sim U(-20, 20),\\quad Y\\sim f(X) + \\epsilon,\\quad \\epsilon\\sim N(0, 0.5)\n",
    "\\end{equation*}\n",
    "\n",
    "dla\n",
    "\n",
    "\\begin{equation*}\n",
    "f(x) = \\sin(0.1x^2 + x)  e^{\\cos(x)}\n",
    "\\end{equation*}\n"
   ]
  }
 ],
 "metadata": {
  "language_info": {
   "name": "python"
  }
 },
 "nbformat": 4,
 "nbformat_minor": 5
}
